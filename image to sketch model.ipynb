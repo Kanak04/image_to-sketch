{
 "cells": [
  {
   "cell_type": "code",
   "execution_count": 1,
   "metadata": {},
   "outputs": [],
   "source": [
    "import cv2 as cv\n",
    "import numpy as np\n",
    "from matplotlib import pyplot as plt"
   ]
  },
  {
   "cell_type": "code",
   "execution_count": 2,
   "metadata": {},
   "outputs": [],
   "source": [
    "def sketch(image):\n",
    "    # Convert image to gray scale\n",
    "    img_gray = cv.cvtColor(image, cv.COLOR_BGR2GRAY)\n",
    " \n",
    "    # Clean up image using Gaussian Blur\n",
    "    img_gray_blur = cv.GaussianBlur(img_gray, (5, 5), 0)\n",
    " \n",
    "    # Extract Edges\n",
    "    canny_edges = cv.Canny(img_gray_blur, 30, 70)\n",
    " \n",
    "    # Do an invert binarize the image\n",
    "    ret, mask = cv.threshold(canny_edges, 120, 255, cv.THRESH_BINARY_INV)\n",
    " \n",
    "    return mask"
   ]
  },
  {
   "cell_type": "code",
   "execution_count": 3,
   "metadata": {},
   "outputs": [],
   "source": [
    "def liveSketch():\n",
    "    cap = cv.VideoCapture(0)\n",
    " \n",
    "    while True:\n",
    "        ret, frame = cap.read()\n",
    "        cv.imshow(\"Live Sketch\", sketch(frame))\n",
    "        if cv.waitKey(1) == 27:\n",
    "            break\n",
    "    \n",
    "    cap.release()\n",
    "    cv.destroyAllWindows()"
   ]
  },
  {
   "cell_type": "code",
   "execution_count": null,
   "metadata": {},
   "outputs": [],
   "source": [
    "if __name__ == \"__main__\":\n",
    "    liveSketch()"
   ]
  },
  {
   "cell_type": "code",
   "execution_count": null,
   "metadata": {},
   "outputs": [],
   "source": [
    "import sys \n",
    "sys.exit()"
   ]
  },
  {
   "cell_type": "code",
   "execution_count": null,
   "metadata": {},
   "outputs": [],
   "source": []
  }
 ],
 "metadata": {
  "kernelspec": {
   "display_name": "Python 3",
   "language": "python",
   "name": "python3"
  },
  "language_info": {
   "codemirror_mode": {
    "name": "ipython",
    "version": 3
   },
   "file_extension": ".py",
   "mimetype": "text/x-python",
   "name": "python",
   "nbconvert_exporter": "python",
   "pygments_lexer": "ipython3",
   "version": "3.8.3"
  }
 },
 "nbformat": 4,
 "nbformat_minor": 4
}
